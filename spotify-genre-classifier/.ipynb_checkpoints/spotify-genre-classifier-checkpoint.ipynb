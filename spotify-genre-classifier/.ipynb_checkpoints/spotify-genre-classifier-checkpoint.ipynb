{
 "cells": [
  {
   "cell_type": "code",
   "execution_count": 1,
   "metadata": {},
   "outputs": [],
   "source": [
    "# Load libraries\n",
    "import pandas as pd\n",
    "import numpy as np\n",
    "import seaborn as sns\n",
    "import matplotlib.pyplot as plt\n",
    "from ast import literal_eval\n",
    "from sklearn.model_selection import train_test_split\n",
    "from sklearn.preprocessing import StandardScaler\n",
    "from sklearn.tree import DecisionTreeClassifier\n",
    "from sklearn import metrics\n",
    "from sklearn.ensemble import BaggingClassifier\n",
    "from sklearn.ensemble import RandomForestClassifier\n",
    "from sklearn.ensemble import AdaBoostClassifier\n",
    "import pickle"
   ]
  },
  {
   "cell_type": "code",
   "execution_count": 2,
   "metadata": {},
   "outputs": [
    {
     "data": {
      "text/html": [
       "<div>\n",
       "<style scoped>\n",
       "    .dataframe tbody tr th:only-of-type {\n",
       "        vertical-align: middle;\n",
       "    }\n",
       "\n",
       "    .dataframe tbody tr th {\n",
       "        vertical-align: top;\n",
       "    }\n",
       "\n",
       "    .dataframe thead th {\n",
       "        text-align: right;\n",
       "    }\n",
       "</style>\n",
       "<table border=\"1\" class=\"dataframe\">\n",
       "  <thead>\n",
       "    <tr style=\"text-align: right;\">\n",
       "      <th></th>\n",
       "      <th>artists</th>\n",
       "      <th>acousticness</th>\n",
       "      <th>danceability</th>\n",
       "      <th>duration_ms</th>\n",
       "      <th>energy</th>\n",
       "      <th>instrumentalness</th>\n",
       "      <th>liveness</th>\n",
       "      <th>loudness</th>\n",
       "      <th>speechiness</th>\n",
       "      <th>tempo</th>\n",
       "      <th>valence</th>\n",
       "      <th>popularity</th>\n",
       "      <th>key</th>\n",
       "      <th>mode</th>\n",
       "      <th>count</th>\n",
       "      <th>genres</th>\n",
       "    </tr>\n",
       "  </thead>\n",
       "  <tbody>\n",
       "    <tr>\n",
       "      <th>0</th>\n",
       "      <td>\"Cats\" 1981 Original London Cast</td>\n",
       "      <td>0.598500</td>\n",
       "      <td>0.470100</td>\n",
       "      <td>267072.000000</td>\n",
       "      <td>0.376203</td>\n",
       "      <td>0.010261</td>\n",
       "      <td>0.283050</td>\n",
       "      <td>-14.434300</td>\n",
       "      <td>0.209150</td>\n",
       "      <td>114.128800</td>\n",
       "      <td>0.358320</td>\n",
       "      <td>38.200000</td>\n",
       "      <td>5</td>\n",
       "      <td>1</td>\n",
       "      <td>10</td>\n",
       "      <td>['show tunes']</td>\n",
       "    </tr>\n",
       "    <tr>\n",
       "      <th>1</th>\n",
       "      <td>\"Cats\" 1983 Broadway Cast</td>\n",
       "      <td>0.862538</td>\n",
       "      <td>0.441731</td>\n",
       "      <td>287280.000000</td>\n",
       "      <td>0.406808</td>\n",
       "      <td>0.081158</td>\n",
       "      <td>0.315215</td>\n",
       "      <td>-10.690000</td>\n",
       "      <td>0.176212</td>\n",
       "      <td>103.044154</td>\n",
       "      <td>0.268865</td>\n",
       "      <td>31.538462</td>\n",
       "      <td>5</td>\n",
       "      <td>1</td>\n",
       "      <td>26</td>\n",
       "      <td>[]</td>\n",
       "    </tr>\n",
       "    <tr>\n",
       "      <th>2</th>\n",
       "      <td>\"Fiddler On The Roof” Motion Picture Chorus</td>\n",
       "      <td>0.856571</td>\n",
       "      <td>0.348286</td>\n",
       "      <td>328920.000000</td>\n",
       "      <td>0.286571</td>\n",
       "      <td>0.024593</td>\n",
       "      <td>0.325786</td>\n",
       "      <td>-15.230714</td>\n",
       "      <td>0.118514</td>\n",
       "      <td>77.375857</td>\n",
       "      <td>0.354857</td>\n",
       "      <td>34.571429</td>\n",
       "      <td>0</td>\n",
       "      <td>1</td>\n",
       "      <td>7</td>\n",
       "      <td>[]</td>\n",
       "    </tr>\n",
       "    <tr>\n",
       "      <th>3</th>\n",
       "      <td>\"Fiddler On The Roof” Motion Picture Orchestra</td>\n",
       "      <td>0.884926</td>\n",
       "      <td>0.425074</td>\n",
       "      <td>262890.962963</td>\n",
       "      <td>0.245770</td>\n",
       "      <td>0.073587</td>\n",
       "      <td>0.275481</td>\n",
       "      <td>-15.639370</td>\n",
       "      <td>0.123200</td>\n",
       "      <td>88.667630</td>\n",
       "      <td>0.372030</td>\n",
       "      <td>34.407407</td>\n",
       "      <td>0</td>\n",
       "      <td>1</td>\n",
       "      <td>27</td>\n",
       "      <td>[]</td>\n",
       "    </tr>\n",
       "    <tr>\n",
       "      <th>4</th>\n",
       "      <td>\"Joseph And The Amazing Technicolor Dreamcoat\"...</td>\n",
       "      <td>0.510714</td>\n",
       "      <td>0.467143</td>\n",
       "      <td>270436.142857</td>\n",
       "      <td>0.488286</td>\n",
       "      <td>0.009400</td>\n",
       "      <td>0.195000</td>\n",
       "      <td>-10.236714</td>\n",
       "      <td>0.098543</td>\n",
       "      <td>122.835857</td>\n",
       "      <td>0.482286</td>\n",
       "      <td>42.000000</td>\n",
       "      <td>5</td>\n",
       "      <td>1</td>\n",
       "      <td>7</td>\n",
       "      <td>[]</td>\n",
       "    </tr>\n",
       "  </tbody>\n",
       "</table>\n",
       "</div>"
      ],
      "text/plain": [
       "                                             artists  acousticness  \\\n",
       "0                   \"Cats\" 1981 Original London Cast      0.598500   \n",
       "1                          \"Cats\" 1983 Broadway Cast      0.862538   \n",
       "2        \"Fiddler On The Roof” Motion Picture Chorus      0.856571   \n",
       "3     \"Fiddler On The Roof” Motion Picture Orchestra      0.884926   \n",
       "4  \"Joseph And The Amazing Technicolor Dreamcoat\"...      0.510714   \n",
       "\n",
       "   danceability    duration_ms    energy  instrumentalness  liveness  \\\n",
       "0      0.470100  267072.000000  0.376203          0.010261  0.283050   \n",
       "1      0.441731  287280.000000  0.406808          0.081158  0.315215   \n",
       "2      0.348286  328920.000000  0.286571          0.024593  0.325786   \n",
       "3      0.425074  262890.962963  0.245770          0.073587  0.275481   \n",
       "4      0.467143  270436.142857  0.488286          0.009400  0.195000   \n",
       "\n",
       "    loudness  speechiness       tempo   valence  popularity  key  mode  count  \\\n",
       "0 -14.434300     0.209150  114.128800  0.358320   38.200000    5     1     10   \n",
       "1 -10.690000     0.176212  103.044154  0.268865   31.538462    5     1     26   \n",
       "2 -15.230714     0.118514   77.375857  0.354857   34.571429    0     1      7   \n",
       "3 -15.639370     0.123200   88.667630  0.372030   34.407407    0     1     27   \n",
       "4 -10.236714     0.098543  122.835857  0.482286   42.000000    5     1      7   \n",
       "\n",
       "           genres  \n",
       "0  ['show tunes']  \n",
       "1              []  \n",
       "2              []  \n",
       "3              []  \n",
       "4              []  "
      ]
     },
     "execution_count": 2,
     "metadata": {},
     "output_type": "execute_result"
    }
   ],
   "source": [
    "# Load dataset from demographics csv and display first five rows\n",
    "data = pd.read_csv('data_w_genres.csv')\n",
    "data.head()"
   ]
  },
  {
   "cell_type": "code",
   "execution_count": 3,
   "metadata": {},
   "outputs": [
    {
     "name": "stdout",
     "output_type": "stream",
     "text": [
      "<class 'pandas.core.frame.DataFrame'>\n",
      "RangeIndex: 32539 entries, 0 to 32538\n",
      "Data columns (total 16 columns):\n",
      " #   Column            Non-Null Count  Dtype  \n",
      "---  ------            --------------  -----  \n",
      " 0   artists           32539 non-null  object \n",
      " 1   acousticness      32539 non-null  float64\n",
      " 2   danceability      32539 non-null  float64\n",
      " 3   duration_ms       32539 non-null  float64\n",
      " 4   energy            32539 non-null  float64\n",
      " 5   instrumentalness  32539 non-null  float64\n",
      " 6   liveness          32539 non-null  float64\n",
      " 7   loudness          32539 non-null  float64\n",
      " 8   speechiness       32539 non-null  float64\n",
      " 9   tempo             32539 non-null  float64\n",
      " 10  valence           32539 non-null  float64\n",
      " 11  popularity        32539 non-null  float64\n",
      " 12  key               32539 non-null  int64  \n",
      " 13  mode              32539 non-null  int64  \n",
      " 14  count             32539 non-null  int64  \n",
      " 15  genres            32539 non-null  object \n",
      "dtypes: float64(11), int64(3), object(2)\n",
      "memory usage: 4.0+ MB\n"
     ]
    }
   ],
   "source": [
    "# Explore the dataset\n",
    "data.info()"
   ]
  },
  {
   "cell_type": "code",
   "execution_count": 4,
   "metadata": {},
   "outputs": [
    {
     "data": {
      "text/html": [
       "<div>\n",
       "<style scoped>\n",
       "    .dataframe tbody tr th:only-of-type {\n",
       "        vertical-align: middle;\n",
       "    }\n",
       "\n",
       "    .dataframe tbody tr th {\n",
       "        vertical-align: top;\n",
       "    }\n",
       "\n",
       "    .dataframe thead th {\n",
       "        text-align: right;\n",
       "    }\n",
       "</style>\n",
       "<table border=\"1\" class=\"dataframe\">\n",
       "  <thead>\n",
       "    <tr style=\"text-align: right;\">\n",
       "      <th></th>\n",
       "      <th>artists</th>\n",
       "      <th>acousticness</th>\n",
       "      <th>danceability</th>\n",
       "      <th>duration_ms</th>\n",
       "      <th>energy</th>\n",
       "      <th>instrumentalness</th>\n",
       "      <th>liveness</th>\n",
       "      <th>loudness</th>\n",
       "      <th>speechiness</th>\n",
       "      <th>tempo</th>\n",
       "      <th>valence</th>\n",
       "      <th>popularity</th>\n",
       "      <th>key</th>\n",
       "      <th>mode</th>\n",
       "      <th>count</th>\n",
       "      <th>genres</th>\n",
       "    </tr>\n",
       "  </thead>\n",
       "  <tbody>\n",
       "    <tr>\n",
       "      <th>count</th>\n",
       "      <td>32539</td>\n",
       "      <td>32539.000000</td>\n",
       "      <td>32539.000000</td>\n",
       "      <td>3.253900e+04</td>\n",
       "      <td>32539.000000</td>\n",
       "      <td>32539.000000</td>\n",
       "      <td>32539.000000</td>\n",
       "      <td>32539.000000</td>\n",
       "      <td>32539.000000</td>\n",
       "      <td>32539.000000</td>\n",
       "      <td>32539.000000</td>\n",
       "      <td>32539.000000</td>\n",
       "      <td>32539.000000</td>\n",
       "      <td>32539.000000</td>\n",
       "      <td>32539.000000</td>\n",
       "      <td>32539</td>\n",
       "    </tr>\n",
       "    <tr>\n",
       "      <th>unique</th>\n",
       "      <td>32539</td>\n",
       "      <td>NaN</td>\n",
       "      <td>NaN</td>\n",
       "      <td>NaN</td>\n",
       "      <td>NaN</td>\n",
       "      <td>NaN</td>\n",
       "      <td>NaN</td>\n",
       "      <td>NaN</td>\n",
       "      <td>NaN</td>\n",
       "      <td>NaN</td>\n",
       "      <td>NaN</td>\n",
       "      <td>NaN</td>\n",
       "      <td>NaN</td>\n",
       "      <td>NaN</td>\n",
       "      <td>NaN</td>\n",
       "      <td>10841</td>\n",
       "    </tr>\n",
       "    <tr>\n",
       "      <th>top</th>\n",
       "      <td>Slick Gizmo</td>\n",
       "      <td>NaN</td>\n",
       "      <td>NaN</td>\n",
       "      <td>NaN</td>\n",
       "      <td>NaN</td>\n",
       "      <td>NaN</td>\n",
       "      <td>NaN</td>\n",
       "      <td>NaN</td>\n",
       "      <td>NaN</td>\n",
       "      <td>NaN</td>\n",
       "      <td>NaN</td>\n",
       "      <td>NaN</td>\n",
       "      <td>NaN</td>\n",
       "      <td>NaN</td>\n",
       "      <td>NaN</td>\n",
       "      <td>[]</td>\n",
       "    </tr>\n",
       "    <tr>\n",
       "      <th>freq</th>\n",
       "      <td>1</td>\n",
       "      <td>NaN</td>\n",
       "      <td>NaN</td>\n",
       "      <td>NaN</td>\n",
       "      <td>NaN</td>\n",
       "      <td>NaN</td>\n",
       "      <td>NaN</td>\n",
       "      <td>NaN</td>\n",
       "      <td>NaN</td>\n",
       "      <td>NaN</td>\n",
       "      <td>NaN</td>\n",
       "      <td>NaN</td>\n",
       "      <td>NaN</td>\n",
       "      <td>NaN</td>\n",
       "      <td>NaN</td>\n",
       "      <td>13563</td>\n",
       "    </tr>\n",
       "    <tr>\n",
       "      <th>mean</th>\n",
       "      <td>NaN</td>\n",
       "      <td>0.455682</td>\n",
       "      <td>0.552737</td>\n",
       "      <td>2.485982e+05</td>\n",
       "      <td>0.525908</td>\n",
       "      <td>0.233281</td>\n",
       "      <td>0.209035</td>\n",
       "      <td>-11.008171</td>\n",
       "      <td>0.092047</td>\n",
       "      <td>117.433745</td>\n",
       "      <td>0.498812</td>\n",
       "      <td>24.473452</td>\n",
       "      <td>5.459787</td>\n",
       "      <td>0.734903</td>\n",
       "      <td>12.561818</td>\n",
       "      <td>NaN</td>\n",
       "    </tr>\n",
       "    <tr>\n",
       "      <th>std</th>\n",
       "      <td>NaN</td>\n",
       "      <td>0.383678</td>\n",
       "      <td>0.176445</td>\n",
       "      <td>1.581808e+05</td>\n",
       "      <td>0.267402</td>\n",
       "      <td>0.334487</td>\n",
       "      <td>0.151781</td>\n",
       "      <td>5.568630</td>\n",
       "      <td>0.111257</td>\n",
       "      <td>24.467506</td>\n",
       "      <td>0.247154</td>\n",
       "      <td>23.021041</td>\n",
       "      <td>3.473653</td>\n",
       "      <td>0.441392</td>\n",
       "      <td>52.407821</td>\n",
       "      <td>NaN</td>\n",
       "    </tr>\n",
       "    <tr>\n",
       "      <th>min</th>\n",
       "      <td>NaN</td>\n",
       "      <td>0.000000</td>\n",
       "      <td>0.000000</td>\n",
       "      <td>8.042000e+03</td>\n",
       "      <td>0.000000</td>\n",
       "      <td>0.000000</td>\n",
       "      <td>0.000000</td>\n",
       "      <td>-60.000000</td>\n",
       "      <td>0.000000</td>\n",
       "      <td>0.000000</td>\n",
       "      <td>0.000000</td>\n",
       "      <td>0.000000</td>\n",
       "      <td>0.000000</td>\n",
       "      <td>0.000000</td>\n",
       "      <td>1.000000</td>\n",
       "      <td>NaN</td>\n",
       "    </tr>\n",
       "    <tr>\n",
       "      <th>25%</th>\n",
       "      <td>NaN</td>\n",
       "      <td>0.055155</td>\n",
       "      <td>0.436487</td>\n",
       "      <td>1.804616e+05</td>\n",
       "      <td>0.299000</td>\n",
       "      <td>0.000012</td>\n",
       "      <td>0.109000</td>\n",
       "      <td>-13.792500</td>\n",
       "      <td>0.039700</td>\n",
       "      <td>100.983500</td>\n",
       "      <td>0.305792</td>\n",
       "      <td>0.000000</td>\n",
       "      <td>2.000000</td>\n",
       "      <td>0.000000</td>\n",
       "      <td>2.000000</td>\n",
       "      <td>NaN</td>\n",
       "    </tr>\n",
       "    <tr>\n",
       "      <th>50%</th>\n",
       "      <td>NaN</td>\n",
       "      <td>0.391833</td>\n",
       "      <td>0.563000</td>\n",
       "      <td>2.215070e+05</td>\n",
       "      <td>0.537375</td>\n",
       "      <td>0.009550</td>\n",
       "      <td>0.162000</td>\n",
       "      <td>-9.887000</td>\n",
       "      <td>0.052822</td>\n",
       "      <td>118.779000</td>\n",
       "      <td>0.506000</td>\n",
       "      <td>22.666667</td>\n",
       "      <td>6.000000</td>\n",
       "      <td>1.000000</td>\n",
       "      <td>2.000000</td>\n",
       "      <td>NaN</td>\n",
       "    </tr>\n",
       "    <tr>\n",
       "      <th>75%</th>\n",
       "      <td>NaN</td>\n",
       "      <td>0.876000</td>\n",
       "      <td>0.684500</td>\n",
       "      <td>2.815870e+05</td>\n",
       "      <td>0.747039</td>\n",
       "      <td>0.451149</td>\n",
       "      <td>0.259500</td>\n",
       "      <td>-6.944500</td>\n",
       "      <td>0.090800</td>\n",
       "      <td>130.552000</td>\n",
       "      <td>0.691500</td>\n",
       "      <td>43.141941</td>\n",
       "      <td>8.000000</td>\n",
       "      <td>1.000000</td>\n",
       "      <td>7.000000</td>\n",
       "      <td>NaN</td>\n",
       "    </tr>\n",
       "    <tr>\n",
       "      <th>max</th>\n",
       "      <td>NaN</td>\n",
       "      <td>0.996000</td>\n",
       "      <td>0.987000</td>\n",
       "      <td>4.696690e+06</td>\n",
       "      <td>1.000000</td>\n",
       "      <td>1.000000</td>\n",
       "      <td>0.986000</td>\n",
       "      <td>3.367000</td>\n",
       "      <td>0.971000</td>\n",
       "      <td>219.833000</td>\n",
       "      <td>0.997000</td>\n",
       "      <td>94.000000</td>\n",
       "      <td>11.000000</td>\n",
       "      <td>1.000000</td>\n",
       "      <td>3179.000000</td>\n",
       "      <td>NaN</td>\n",
       "    </tr>\n",
       "  </tbody>\n",
       "</table>\n",
       "</div>"
      ],
      "text/plain": [
       "            artists  acousticness  danceability   duration_ms        energy  \\\n",
       "count         32539  32539.000000  32539.000000  3.253900e+04  32539.000000   \n",
       "unique        32539           NaN           NaN           NaN           NaN   \n",
       "top     Slick Gizmo           NaN           NaN           NaN           NaN   \n",
       "freq              1           NaN           NaN           NaN           NaN   \n",
       "mean            NaN      0.455682      0.552737  2.485982e+05      0.525908   \n",
       "std             NaN      0.383678      0.176445  1.581808e+05      0.267402   \n",
       "min             NaN      0.000000      0.000000  8.042000e+03      0.000000   \n",
       "25%             NaN      0.055155      0.436487  1.804616e+05      0.299000   \n",
       "50%             NaN      0.391833      0.563000  2.215070e+05      0.537375   \n",
       "75%             NaN      0.876000      0.684500  2.815870e+05      0.747039   \n",
       "max             NaN      0.996000      0.987000  4.696690e+06      1.000000   \n",
       "\n",
       "        instrumentalness      liveness      loudness   speechiness  \\\n",
       "count       32539.000000  32539.000000  32539.000000  32539.000000   \n",
       "unique               NaN           NaN           NaN           NaN   \n",
       "top                  NaN           NaN           NaN           NaN   \n",
       "freq                 NaN           NaN           NaN           NaN   \n",
       "mean            0.233281      0.209035    -11.008171      0.092047   \n",
       "std             0.334487      0.151781      5.568630      0.111257   \n",
       "min             0.000000      0.000000    -60.000000      0.000000   \n",
       "25%             0.000012      0.109000    -13.792500      0.039700   \n",
       "50%             0.009550      0.162000     -9.887000      0.052822   \n",
       "75%             0.451149      0.259500     -6.944500      0.090800   \n",
       "max             1.000000      0.986000      3.367000      0.971000   \n",
       "\n",
       "               tempo       valence    popularity           key          mode  \\\n",
       "count   32539.000000  32539.000000  32539.000000  32539.000000  32539.000000   \n",
       "unique           NaN           NaN           NaN           NaN           NaN   \n",
       "top              NaN           NaN           NaN           NaN           NaN   \n",
       "freq             NaN           NaN           NaN           NaN           NaN   \n",
       "mean      117.433745      0.498812     24.473452      5.459787      0.734903   \n",
       "std        24.467506      0.247154     23.021041      3.473653      0.441392   \n",
       "min         0.000000      0.000000      0.000000      0.000000      0.000000   \n",
       "25%       100.983500      0.305792      0.000000      2.000000      0.000000   \n",
       "50%       118.779000      0.506000     22.666667      6.000000      1.000000   \n",
       "75%       130.552000      0.691500     43.141941      8.000000      1.000000   \n",
       "max       219.833000      0.997000     94.000000     11.000000      1.000000   \n",
       "\n",
       "               count genres  \n",
       "count   32539.000000  32539  \n",
       "unique           NaN  10841  \n",
       "top              NaN     []  \n",
       "freq             NaN  13563  \n",
       "mean       12.561818    NaN  \n",
       "std        52.407821    NaN  \n",
       "min         1.000000    NaN  \n",
       "25%         2.000000    NaN  \n",
       "50%         2.000000    NaN  \n",
       "75%         7.000000    NaN  \n",
       "max      3179.000000    NaN  "
      ]
     },
     "execution_count": 4,
     "metadata": {},
     "output_type": "execute_result"
    }
   ],
   "source": [
    "# Explore the dataset (continued)\n",
    "data.describe(include=\"all\")"
   ]
  },
  {
   "cell_type": "code",
   "execution_count": 5,
   "metadata": {},
   "outputs": [
    {
     "name": "stdout",
     "output_type": "stream",
     "text": [
      "<class 'pandas.core.frame.DataFrame'>\n",
      "RangeIndex: 32539 entries, 0 to 32538\n",
      "Data columns (total 16 columns):\n",
      " #   Column            Non-Null Count  Dtype  \n",
      "---  ------            --------------  -----  \n",
      " 0   artists           32539 non-null  object \n",
      " 1   acousticness      32539 non-null  float64\n",
      " 2   danceability      32539 non-null  float64\n",
      " 3   duration_ms       32539 non-null  float64\n",
      " 4   energy            32539 non-null  float64\n",
      " 5   instrumentalness  32539 non-null  float64\n",
      " 6   liveness          32539 non-null  float64\n",
      " 7   loudness          32539 non-null  float64\n",
      " 8   speechiness       32539 non-null  float64\n",
      " 9   tempo             32539 non-null  float64\n",
      " 10  valence           32539 non-null  float64\n",
      " 11  popularity        32539 non-null  float64\n",
      " 12  key               32539 non-null  int64  \n",
      " 13  mode              32539 non-null  int64  \n",
      " 14  count             32539 non-null  int64  \n",
      " 15  genres            18976 non-null  object \n",
      "dtypes: float64(11), int64(3), object(2)\n",
      "memory usage: 4.0+ MB\n"
     ]
    }
   ],
   "source": [
    "# Convert genres string to genres array\n",
    "def stringToArray(x):\n",
    "    y = literal_eval(x)\n",
    "    return (y if len(y) > 0 else np.nan)\n",
    "data['genres'] = data['genres'].map(stringToArray)\n",
    "data.info()"
   ]
  },
  {
   "cell_type": "code",
   "execution_count": 6,
   "metadata": {},
   "outputs": [
    {
     "name": "stdout",
     "output_type": "stream",
     "text": [
      "<class 'pandas.core.frame.DataFrame'>\n",
      "Int64Index: 18976 entries, 0 to 32538\n",
      "Data columns (total 16 columns):\n",
      " #   Column            Non-Null Count  Dtype  \n",
      "---  ------            --------------  -----  \n",
      " 0   artists           18976 non-null  object \n",
      " 1   acousticness      18976 non-null  float64\n",
      " 2   danceability      18976 non-null  float64\n",
      " 3   duration_ms       18976 non-null  float64\n",
      " 4   energy            18976 non-null  float64\n",
      " 5   instrumentalness  18976 non-null  float64\n",
      " 6   liveness          18976 non-null  float64\n",
      " 7   loudness          18976 non-null  float64\n",
      " 8   speechiness       18976 non-null  float64\n",
      " 9   tempo             18976 non-null  float64\n",
      " 10  valence           18976 non-null  float64\n",
      " 11  popularity        18976 non-null  float64\n",
      " 12  key               18976 non-null  int64  \n",
      " 13  mode              18976 non-null  int64  \n",
      " 14  count             18976 non-null  int64  \n",
      " 15  genres            18976 non-null  object \n",
      "dtypes: float64(11), int64(3), object(2)\n",
      "memory usage: 2.5+ MB\n"
     ]
    }
   ],
   "source": [
    "# Drop missing values from variable 'genres'\n",
    "data = data.dropna()\n",
    "data.info()"
   ]
  },
  {
   "cell_type": "code",
   "execution_count": 7,
   "metadata": {},
   "outputs": [
    {
     "data": {
      "text/html": [
       "<div>\n",
       "<style scoped>\n",
       "    .dataframe tbody tr th:only-of-type {\n",
       "        vertical-align: middle;\n",
       "    }\n",
       "\n",
       "    .dataframe tbody tr th {\n",
       "        vertical-align: top;\n",
       "    }\n",
       "\n",
       "    .dataframe thead th {\n",
       "        text-align: right;\n",
       "    }\n",
       "</style>\n",
       "<table border=\"1\" class=\"dataframe\">\n",
       "  <thead>\n",
       "    <tr style=\"text-align: right;\">\n",
       "      <th></th>\n",
       "      <th>Genre</th>\n",
       "      <th>Occurrences</th>\n",
       "    </tr>\n",
       "  </thead>\n",
       "  <tbody>\n",
       "    <tr>\n",
       "      <th>0</th>\n",
       "      <td>rock</td>\n",
       "      <td>601</td>\n",
       "    </tr>\n",
       "    <tr>\n",
       "      <th>1</th>\n",
       "      <td>pop</td>\n",
       "      <td>582</td>\n",
       "    </tr>\n",
       "    <tr>\n",
       "      <th>2</th>\n",
       "      <td>dance pop</td>\n",
       "      <td>576</td>\n",
       "    </tr>\n",
       "    <tr>\n",
       "      <th>3</th>\n",
       "      <td>rap</td>\n",
       "      <td>498</td>\n",
       "    </tr>\n",
       "    <tr>\n",
       "      <th>4</th>\n",
       "      <td>hip hop</td>\n",
       "      <td>487</td>\n",
       "    </tr>\n",
       "    <tr>\n",
       "      <th>5</th>\n",
       "      <td>pop rap</td>\n",
       "      <td>463</td>\n",
       "    </tr>\n",
       "    <tr>\n",
       "      <th>6</th>\n",
       "      <td>country rock</td>\n",
       "      <td>429</td>\n",
       "    </tr>\n",
       "    <tr>\n",
       "      <th>7</th>\n",
       "      <td>urban contemporary</td>\n",
       "      <td>374</td>\n",
       "    </tr>\n",
       "    <tr>\n",
       "      <th>8</th>\n",
       "      <td>pop rock</td>\n",
       "      <td>373</td>\n",
       "    </tr>\n",
       "    <tr>\n",
       "      <th>9</th>\n",
       "      <td>mellow gold</td>\n",
       "      <td>368</td>\n",
       "    </tr>\n",
       "    <tr>\n",
       "      <th>10</th>\n",
       "      <td>soft rock</td>\n",
       "      <td>368</td>\n",
       "    </tr>\n",
       "    <tr>\n",
       "      <th>11</th>\n",
       "      <td>adult standards</td>\n",
       "      <td>360</td>\n",
       "    </tr>\n",
       "    <tr>\n",
       "      <th>12</th>\n",
       "      <td>latin</td>\n",
       "      <td>353</td>\n",
       "    </tr>\n",
       "    <tr>\n",
       "      <th>13</th>\n",
       "      <td>trap</td>\n",
       "      <td>346</td>\n",
       "    </tr>\n",
       "    <tr>\n",
       "      <th>14</th>\n",
       "      <td>classic rock</td>\n",
       "      <td>337</td>\n",
       "    </tr>\n",
       "    <tr>\n",
       "      <th>15</th>\n",
       "      <td>album rock</td>\n",
       "      <td>332</td>\n",
       "    </tr>\n",
       "    <tr>\n",
       "      <th>16</th>\n",
       "      <td>pop dance</td>\n",
       "      <td>332</td>\n",
       "    </tr>\n",
       "    <tr>\n",
       "      <th>17</th>\n",
       "      <td>modern rock</td>\n",
       "      <td>329</td>\n",
       "    </tr>\n",
       "    <tr>\n",
       "      <th>18</th>\n",
       "      <td>funk</td>\n",
       "      <td>323</td>\n",
       "    </tr>\n",
       "    <tr>\n",
       "      <th>19</th>\n",
       "      <td>folk rock</td>\n",
       "      <td>321</td>\n",
       "    </tr>\n",
       "    <tr>\n",
       "      <th>20</th>\n",
       "      <td>new wave pop</td>\n",
       "      <td>312</td>\n",
       "    </tr>\n",
       "    <tr>\n",
       "      <th>21</th>\n",
       "      <td>alternative rock</td>\n",
       "      <td>302</td>\n",
       "    </tr>\n",
       "    <tr>\n",
       "      <th>22</th>\n",
       "      <td>southern hip hop</td>\n",
       "      <td>301</td>\n",
       "    </tr>\n",
       "    <tr>\n",
       "      <th>23</th>\n",
       "      <td>gangster rap</td>\n",
       "      <td>299</td>\n",
       "    </tr>\n",
       "    <tr>\n",
       "      <th>24</th>\n",
       "      <td>country</td>\n",
       "      <td>292</td>\n",
       "    </tr>\n",
       "    <tr>\n",
       "      <th>25</th>\n",
       "      <td>quiet storm</td>\n",
       "      <td>290</td>\n",
       "    </tr>\n",
       "    <tr>\n",
       "      <th>26</th>\n",
       "      <td>r&amp;b</td>\n",
       "      <td>285</td>\n",
       "    </tr>\n",
       "    <tr>\n",
       "      <th>27</th>\n",
       "      <td>indie pop</td>\n",
       "      <td>285</td>\n",
       "    </tr>\n",
       "    <tr>\n",
       "      <th>28</th>\n",
       "      <td>soul</td>\n",
       "      <td>285</td>\n",
       "    </tr>\n",
       "    <tr>\n",
       "      <th>29</th>\n",
       "      <td>brill building pop</td>\n",
       "      <td>281</td>\n",
       "    </tr>\n",
       "    <tr>\n",
       "      <th>30</th>\n",
       "      <td>tropical</td>\n",
       "      <td>279</td>\n",
       "    </tr>\n",
       "    <tr>\n",
       "      <th>31</th>\n",
       "      <td>classical performance</td>\n",
       "      <td>279</td>\n",
       "    </tr>\n",
       "    <tr>\n",
       "      <th>32</th>\n",
       "      <td>hard rock</td>\n",
       "      <td>277</td>\n",
       "    </tr>\n",
       "    <tr>\n",
       "      <th>33</th>\n",
       "      <td>art rock</td>\n",
       "      <td>276</td>\n",
       "    </tr>\n",
       "    <tr>\n",
       "      <th>34</th>\n",
       "      <td>dance rock</td>\n",
       "      <td>274</td>\n",
       "    </tr>\n",
       "    <tr>\n",
       "      <th>35</th>\n",
       "      <td>post-teen pop</td>\n",
       "      <td>274</td>\n",
       "    </tr>\n",
       "    <tr>\n",
       "      <th>36</th>\n",
       "      <td>folk</td>\n",
       "      <td>272</td>\n",
       "    </tr>\n",
       "    <tr>\n",
       "      <th>37</th>\n",
       "      <td>alternative metal</td>\n",
       "      <td>269</td>\n",
       "    </tr>\n",
       "    <tr>\n",
       "      <th>38</th>\n",
       "      <td>edm</td>\n",
       "      <td>268</td>\n",
       "    </tr>\n",
       "  </tbody>\n",
       "</table>\n",
       "</div>"
      ],
      "text/plain": [
       "                    Genre  Occurrences\n",
       "0                    rock          601\n",
       "1                     pop          582\n",
       "2               dance pop          576\n",
       "3                     rap          498\n",
       "4                 hip hop          487\n",
       "5                 pop rap          463\n",
       "6            country rock          429\n",
       "7      urban contemporary          374\n",
       "8                pop rock          373\n",
       "9             mellow gold          368\n",
       "10              soft rock          368\n",
       "11        adult standards          360\n",
       "12                  latin          353\n",
       "13                   trap          346\n",
       "14           classic rock          337\n",
       "15             album rock          332\n",
       "16              pop dance          332\n",
       "17            modern rock          329\n",
       "18                   funk          323\n",
       "19              folk rock          321\n",
       "20           new wave pop          312\n",
       "21       alternative rock          302\n",
       "22       southern hip hop          301\n",
       "23           gangster rap          299\n",
       "24                country          292\n",
       "25            quiet storm          290\n",
       "26                    r&b          285\n",
       "27              indie pop          285\n",
       "28                   soul          285\n",
       "29     brill building pop          281\n",
       "30               tropical          279\n",
       "31  classical performance          279\n",
       "32              hard rock          277\n",
       "33               art rock          276\n",
       "34             dance rock          274\n",
       "35          post-teen pop          274\n",
       "36                   folk          272\n",
       "37      alternative metal          269\n",
       "38                    edm          268"
      ]
     },
     "execution_count": 7,
     "metadata": {},
     "output_type": "execute_result"
    }
   ],
   "source": [
    "# Sort and display genres by most occurrences\n",
    "occurrences = {}\n",
    "for genres in data['genres']:\n",
    "    for genre in genres:\n",
    "        if genre in occurrences:\n",
    "            occurrences[genre] = occurrences[genre] + 1\n",
    "        else:\n",
    "            occurrences[genre] = 1\n",
    "genres_list = list(occurrences.items())\n",
    "genres_list.sort(key=lambda x: x[1], reverse=True)\n",
    "genres_df = pd.DataFrame(genres_list, columns=['Genre', 'Occurrences'])\n",
    "genres_df.head(39)"
   ]
  },
  {
   "cell_type": "code",
   "execution_count": 8,
   "metadata": {},
   "outputs": [
    {
     "name": "stdout",
     "output_type": "stream",
     "text": [
      "['rock', 'pop', 'dance pop', 'rap', 'hip hop', 'pop rap', 'country rock', 'urban contemporary', 'pop rock', 'mellow gold', 'soft rock', 'adult standards', 'latin', 'trap', 'classic rock', 'album rock', 'pop dance', 'modern rock', 'funk', 'folk rock', 'new wave pop', 'alternative rock', 'southern hip hop', 'gangster rap', 'country']\n"
     ]
    }
   ],
   "source": [
    "# Get list of genres we're going to WANT TO predict (not 100% they'll be included)\n",
    "filtered_genres = list(filter(lambda x: x[1] > 200, genres_list))\n",
    "filtered_genres = genres_list[:25] # Top25 genres\n",
    "all_genres = list(map(lambda x: x[0], filtered_genres))\n",
    "print(all_genres)"
   ]
  },
  {
   "cell_type": "code",
   "execution_count": 9,
   "metadata": {
    "scrolled": true
   },
   "outputs": [
    {
     "data": {
      "text/html": [
       "<div>\n",
       "<style scoped>\n",
       "    .dataframe tbody tr th:only-of-type {\n",
       "        vertical-align: middle;\n",
       "    }\n",
       "\n",
       "    .dataframe tbody tr th {\n",
       "        vertical-align: top;\n",
       "    }\n",
       "\n",
       "    .dataframe thead th {\n",
       "        text-align: right;\n",
       "    }\n",
       "</style>\n",
       "<table border=\"1\" class=\"dataframe\">\n",
       "  <thead>\n",
       "    <tr style=\"text-align: right;\">\n",
       "      <th></th>\n",
       "      <th>artists</th>\n",
       "      <th>acousticness</th>\n",
       "      <th>danceability</th>\n",
       "      <th>duration_ms</th>\n",
       "      <th>energy</th>\n",
       "      <th>instrumentalness</th>\n",
       "      <th>liveness</th>\n",
       "      <th>loudness</th>\n",
       "      <th>speechiness</th>\n",
       "      <th>tempo</th>\n",
       "      <th>valence</th>\n",
       "      <th>popularity</th>\n",
       "      <th>key</th>\n",
       "      <th>mode</th>\n",
       "      <th>count</th>\n",
       "      <th>genres</th>\n",
       "      <th>top_genre</th>\n",
       "    </tr>\n",
       "  </thead>\n",
       "  <tbody>\n",
       "    <tr>\n",
       "      <th>0</th>\n",
       "      <td>\"Cats\" 1981 Original London Cast</td>\n",
       "      <td>0.598500</td>\n",
       "      <td>0.470100</td>\n",
       "      <td>267072.000000</td>\n",
       "      <td>0.376203</td>\n",
       "      <td>0.010261</td>\n",
       "      <td>0.283050</td>\n",
       "      <td>-14.434300</td>\n",
       "      <td>0.209150</td>\n",
       "      <td>114.128800</td>\n",
       "      <td>0.358320</td>\n",
       "      <td>38.200000</td>\n",
       "      <td>5</td>\n",
       "      <td>1</td>\n",
       "      <td>10</td>\n",
       "      <td>[show tunes]</td>\n",
       "      <td>NaN</td>\n",
       "    </tr>\n",
       "    <tr>\n",
       "      <th>8</th>\n",
       "      <td>\"Weird Al\" Yankovic</td>\n",
       "      <td>0.186821</td>\n",
       "      <td>0.650792</td>\n",
       "      <td>218352.962264</td>\n",
       "      <td>0.693189</td>\n",
       "      <td>0.000045</td>\n",
       "      <td>0.160926</td>\n",
       "      <td>-9.691151</td>\n",
       "      <td>0.082275</td>\n",
       "      <td>132.876604</td>\n",
       "      <td>0.764585</td>\n",
       "      <td>32.867925</td>\n",
       "      <td>9</td>\n",
       "      <td>1</td>\n",
       "      <td>106</td>\n",
       "      <td>[comedy rock, comic, parody]</td>\n",
       "      <td>rock</td>\n",
       "    </tr>\n",
       "    <tr>\n",
       "      <th>10</th>\n",
       "      <td>$NOT</td>\n",
       "      <td>0.458167</td>\n",
       "      <td>0.826667</td>\n",
       "      <td>146886.333333</td>\n",
       "      <td>0.518667</td>\n",
       "      <td>0.000007</td>\n",
       "      <td>0.201683</td>\n",
       "      <td>-8.713167</td>\n",
       "      <td>0.272550</td>\n",
       "      <td>90.728833</td>\n",
       "      <td>0.426750</td>\n",
       "      <td>74.166667</td>\n",
       "      <td>0</td>\n",
       "      <td>1</td>\n",
       "      <td>6</td>\n",
       "      <td>[florida rap, underground hip hop, vapor trap]</td>\n",
       "      <td>rap</td>\n",
       "    </tr>\n",
       "    <tr>\n",
       "      <th>11</th>\n",
       "      <td>$atori Zoom</td>\n",
       "      <td>0.239000</td>\n",
       "      <td>0.883000</td>\n",
       "      <td>141519.000000</td>\n",
       "      <td>0.625000</td>\n",
       "      <td>0.000000</td>\n",
       "      <td>0.076500</td>\n",
       "      <td>-4.098000</td>\n",
       "      <td>0.245000</td>\n",
       "      <td>126.677000</td>\n",
       "      <td>0.871000</td>\n",
       "      <td>69.000000</td>\n",
       "      <td>6</td>\n",
       "      <td>1</td>\n",
       "      <td>2</td>\n",
       "      <td>[dark trap, meme rap]</td>\n",
       "      <td>rap</td>\n",
       "    </tr>\n",
       "    <tr>\n",
       "      <th>13</th>\n",
       "      <td>$uicideBoy$</td>\n",
       "      <td>0.154637</td>\n",
       "      <td>0.778551</td>\n",
       "      <td>149915.289855</td>\n",
       "      <td>0.625870</td>\n",
       "      <td>0.024720</td>\n",
       "      <td>0.209223</td>\n",
       "      <td>-6.553899</td>\n",
       "      <td>0.149986</td>\n",
       "      <td>117.679087</td>\n",
       "      <td>0.242772</td>\n",
       "      <td>65.333333</td>\n",
       "      <td>1</td>\n",
       "      <td>1</td>\n",
       "      <td>69</td>\n",
       "      <td>[dark trap, new orleans rap, underground hip hop]</td>\n",
       "      <td>rap</td>\n",
       "    </tr>\n",
       "  </tbody>\n",
       "</table>\n",
       "</div>"
      ],
      "text/plain": [
       "                             artists  acousticness  danceability  \\\n",
       "0   \"Cats\" 1981 Original London Cast      0.598500      0.470100   \n",
       "8                \"Weird Al\" Yankovic      0.186821      0.650792   \n",
       "10                              $NOT      0.458167      0.826667   \n",
       "11                       $atori Zoom      0.239000      0.883000   \n",
       "13                       $uicideBoy$      0.154637      0.778551   \n",
       "\n",
       "      duration_ms    energy  instrumentalness  liveness   loudness  \\\n",
       "0   267072.000000  0.376203          0.010261  0.283050 -14.434300   \n",
       "8   218352.962264  0.693189          0.000045  0.160926  -9.691151   \n",
       "10  146886.333333  0.518667          0.000007  0.201683  -8.713167   \n",
       "11  141519.000000  0.625000          0.000000  0.076500  -4.098000   \n",
       "13  149915.289855  0.625870          0.024720  0.209223  -6.553899   \n",
       "\n",
       "    speechiness       tempo   valence  popularity  key  mode  count  \\\n",
       "0      0.209150  114.128800  0.358320   38.200000    5     1     10   \n",
       "8      0.082275  132.876604  0.764585   32.867925    9     1    106   \n",
       "10     0.272550   90.728833  0.426750   74.166667    0     1      6   \n",
       "11     0.245000  126.677000  0.871000   69.000000    6     1      2   \n",
       "13     0.149986  117.679087  0.242772   65.333333    1     1     69   \n",
       "\n",
       "                                               genres top_genre  \n",
       "0                                        [show tunes]       NaN  \n",
       "8                        [comedy rock, comic, parody]      rock  \n",
       "10     [florida rap, underground hip hop, vapor trap]       rap  \n",
       "11                              [dark trap, meme rap]       rap  \n",
       "13  [dark trap, new orleans rap, underground hip hop]       rap  "
      ]
     },
     "execution_count": 9,
     "metadata": {},
     "output_type": "execute_result"
    }
   ],
   "source": [
    "# Get top genre for each row\n",
    "def getGenre(genres):\n",
    "    occurrences_dict = {}\n",
    "    for g in all_genres:\n",
    "        for genre in genres:\n",
    "            if g in genre:\n",
    "                if g not in occurrences_dict:\n",
    "                    occurrences_dict[g] = 1\n",
    "                else:\n",
    "                    occurrences_dict[g] += 1\n",
    "    genres_tally = list(occurrences_dict.items())\n",
    "    genres_tally.sort(key=lambda x: x[1], reverse=True)\n",
    "    if len(genres_tally) > 0:\n",
    "        return genres_tally[0][0]\n",
    "    else:\n",
    "        return np.nan\n",
    "data['top_genre'] = data['genres'].map(getGenre)\n",
    "data.head()"
   ]
  },
  {
   "cell_type": "code",
   "execution_count": 10,
   "metadata": {},
   "outputs": [
    {
     "name": "stdout",
     "output_type": "stream",
     "text": [
      "<class 'pandas.core.frame.DataFrame'>\n",
      "Int64Index: 10082 entries, 8 to 32538\n",
      "Data columns (total 17 columns):\n",
      " #   Column            Non-Null Count  Dtype  \n",
      "---  ------            --------------  -----  \n",
      " 0   artists           10082 non-null  object \n",
      " 1   acousticness      10082 non-null  float64\n",
      " 2   danceability      10082 non-null  float64\n",
      " 3   duration_ms       10082 non-null  float64\n",
      " 4   energy            10082 non-null  float64\n",
      " 5   instrumentalness  10082 non-null  float64\n",
      " 6   liveness          10082 non-null  float64\n",
      " 7   loudness          10082 non-null  float64\n",
      " 8   speechiness       10082 non-null  float64\n",
      " 9   tempo             10082 non-null  float64\n",
      " 10  valence           10082 non-null  float64\n",
      " 11  popularity        10082 non-null  float64\n",
      " 12  key               10082 non-null  int64  \n",
      " 13  mode              10082 non-null  int64  \n",
      " 14  count             10082 non-null  int64  \n",
      " 15  genres            10082 non-null  object \n",
      " 16  top_genre         10082 non-null  object \n",
      "dtypes: float64(11), int64(3), object(3)\n",
      "memory usage: 1.4+ MB\n"
     ]
    }
   ],
   "source": [
    "# Drop missing values from variable 'top_genre'\n",
    "data = data.dropna()\n",
    "data.info()"
   ]
  },
  {
   "cell_type": "code",
   "execution_count": 11,
   "metadata": {},
   "outputs": [
    {
     "data": {
      "text/plain": [
       "pop                   3647\n",
       "rock                  3130\n",
       "rap                   1047\n",
       "country                593\n",
       "hip hop                529\n",
       "latin                  433\n",
       "funk                   385\n",
       "adult standards        181\n",
       "urban contemporary     132\n",
       "mellow gold              5\n",
       "Name: top_genre, dtype: int64"
      ]
     },
     "execution_count": 11,
     "metadata": {},
     "output_type": "execute_result"
    }
   ],
   "source": [
    "# Display # of occurrences for each unique item in top_genre\n",
    "data['top_genre'].value_counts()"
   ]
  },
  {
   "cell_type": "code",
   "execution_count": 12,
   "metadata": {},
   "outputs": [
    {
     "data": {
      "text/plain": [
       "10"
      ]
     },
     "execution_count": 12,
     "metadata": {},
     "output_type": "execute_result"
    }
   ],
   "source": [
    "# Display # of genres we're ACTUALLY going to predict\n",
    "len(data['top_genre'].unique())"
   ]
  },
  {
   "cell_type": "code",
   "execution_count": 13,
   "metadata": {},
   "outputs": [
    {
     "name": "stdout",
     "output_type": "stream",
     "text": [
      "<class 'pandas.core.frame.DataFrame'>\n",
      "Int64Index: 10082 entries, 8 to 32538\n",
      "Data columns (total 15 columns):\n",
      " #   Column            Non-Null Count  Dtype  \n",
      "---  ------            --------------  -----  \n",
      " 0   acousticness      10082 non-null  float64\n",
      " 1   danceability      10082 non-null  float64\n",
      " 2   duration_ms       10082 non-null  float64\n",
      " 3   energy            10082 non-null  float64\n",
      " 4   instrumentalness  10082 non-null  float64\n",
      " 5   liveness          10082 non-null  float64\n",
      " 6   loudness          10082 non-null  float64\n",
      " 7   speechiness       10082 non-null  float64\n",
      " 8   tempo             10082 non-null  float64\n",
      " 9   valence           10082 non-null  float64\n",
      " 10  popularity        10082 non-null  float64\n",
      " 11  key               10082 non-null  int64  \n",
      " 12  mode              10082 non-null  int64  \n",
      " 13  count             10082 non-null  int64  \n",
      " 14  top_genre         10082 non-null  object \n",
      "dtypes: float64(11), int64(3), object(1)\n",
      "memory usage: 1.2+ MB\n"
     ]
    }
   ],
   "source": [
    "# Drop 'artists' and 'genres' columns\n",
    "data = data.drop(columns=['artists', 'genres'])\n",
    "data.info()"
   ]
  },
  {
   "cell_type": "code",
   "execution_count": 14,
   "metadata": {},
   "outputs": [],
   "source": [
    "# Partition dataset into training and test sets\n",
    "x_train, x_test, y_train, y_test = train_test_split(data[['acousticness', 'danceability', 'duration_ms', 'energy',\n",
    "                                                          'instrumentalness', 'liveness', 'loudness', 'speechiness',\n",
    "                                                          'tempo', 'valence', 'popularity', 'mode', 'key']],\n",
    "                                                    data['top_genre'], test_size=0.25, random_state = 0)"
   ]
  },
  {
   "cell_type": "code",
   "execution_count": 15,
   "metadata": {},
   "outputs": [],
   "source": [
    "# Standardize data\n",
    "scaler = StandardScaler()\n",
    "scaler.fit(x_train)\n",
    "x_train = scaler.transform(x_train)\n",
    "x_test = scaler.transform(x_test)"
   ]
  },
  {
   "cell_type": "code",
   "execution_count": 16,
   "metadata": {},
   "outputs": [
    {
     "data": {
      "text/plain": [
       "DecisionTreeClassifier(criterion='entropy', random_state=0)"
      ]
     },
     "execution_count": 16,
     "metadata": {},
     "output_type": "execute_result"
    }
   ],
   "source": [
    "# CLASSIFIER: Decision tree\n",
    "# Build decision tree\n",
    "model = DecisionTreeClassifier(criterion=\"entropy\", random_state = 0)\n",
    "model.fit(x_train, y_train)"
   ]
  },
  {
   "cell_type": "code",
   "execution_count": 17,
   "metadata": {},
   "outputs": [],
   "source": [
    "# Predict class labels using decision tree\n",
    "y_pred = model.predict(x_test)"
   ]
  },
  {
   "cell_type": "code",
   "execution_count": 18,
   "metadata": {},
   "outputs": [
    {
     "name": "stdout",
     "output_type": "stream",
     "text": [
      "[[  9   4   1   0   0   0  19   3  11   0]\n",
      " [  2  36   1   1   3   0  53   4  40   1]\n",
      " [  4   3  17   4   4   0  35   6  27   1]\n",
      " [  1   1   2  37   2   0  24  32  12   1]\n",
      " [  0   3   2   4  24   0  38   4  25   2]\n",
      " [  0   0   0   0   0   0   0   0   0   0]\n",
      " [ 20  62  19  21  45   1 412  72 269  13]\n",
      " [  3   3   1  41  12   0  64 100  31   3]\n",
      " [ 11  40  33  10  32   0 229  43 380  13]\n",
      " [  0   0   0   1   4   0  14   0   6  10]]\n"
     ]
    }
   ],
   "source": [
    "# Compute confusion matrix\n",
    "conf_matrix = metrics.confusion_matrix(y_test, y_pred)\n",
    "print(conf_matrix)"
   ]
  },
  {
   "cell_type": "code",
   "execution_count": 19,
   "metadata": {},
   "outputs": [
    {
     "data": {
      "image/png": "[encoded data removed]",
      "text/plain": [
       "<Figure size 432x288 with 2 Axes>"
      ]
     },
     "metadata": {
      "needs_background": "light"
     },
     "output_type": "display_data"
    }
   ],
   "source": [
    "# Plot confusion matrix\n",
    "sns.heatmap(conf_matrix, annot = True, fmt = \".3f\", square = True, cmap = plt.cm.Blues)\n",
    "plt.ylabel('Actual')\n",
    "plt.xlabel('Predicted')\n",
    "plt.title('Confusion matrix')\n",
    "plt.tight_layout()"
   ]
  },
  {
   "cell_type": "code",
   "execution_count": 20,
   "metadata": {
    "scrolled": true
   },
   "outputs": [
    {
     "name": "stdout",
     "output_type": "stream",
     "text": [
      "Accuracy: 0.40658468861562874\n",
      "Error: 0.5934153113843712\n",
      "Precision: [0.18       0.23684211 0.22368421 0.31092437 0.19047619 0.\n",
      " 0.46396396 0.37878788 0.47440699 0.22727273]\n",
      "Recall: [0.19148936 0.25531915 0.16831683 0.33035714 0.23529412 0.\n",
      " 0.44111349 0.3875969  0.48040455 0.28571429]\n",
      "F1 Scores: 0.4077151414223994\n"
     ]
    },
    {
     "name": "stderr",
     "output_type": "stream",
     "text": [
      "D:\\Anaconda3\\lib\\site-packages\\sklearn\\metrics\\_classification.py:1221: UndefinedMetricWarning: Recall is ill-defined and being set to 0.0 in labels with no true samples. Use `zero_division` parameter to control this behavior.\n",
      "  _warn_prf(average, modifier, msg_start, len(result))\n"
     ]
    }
   ],
   "source": [
    "# Compute evaluation metrics\n",
    "print('Accuracy:', metrics.accuracy_score(y_test, y_pred)) # accuracy\n",
    "print('Error:', 1 - metrics.accuracy_score(y_test, y_pred)) # error\n",
    "print('Precision:', metrics.precision_score(y_test, y_pred, average = None)) # precision\n",
    "print('Recall:', metrics.recall_score(y_test, y_pred, average = None)) # recall\n",
    "print('F1 Scores:', metrics.f1_score(y_test, y_pred, average='weighted', labels=np.unique(y_pred))) # F1 score"
   ]
  },
  {
   "cell_type": "code",
   "execution_count": 21,
   "metadata": {},
   "outputs": [
    {
     "data": {
      "text/plain": [
       "BaggingClassifier(base_estimator=DecisionTreeClassifier(criterion='entropy',\n",
       "                                                        random_state=0),\n",
       "                  random_state=0)"
      ]
     },
     "execution_count": 21,
     "metadata": {},
     "output_type": "execute_result"
    }
   ],
   "source": [
    "# CLASSIFIER: Ensemble of decision trees (with bagging)\n",
    "# Build ensemble of decision trees (with bagging)\n",
    "model = BaggingClassifier(base_estimator = DecisionTreeClassifier(criterion = \"entropy\", random_state = 0), n_estimators = 10, random_state = 0)\n",
    "model.fit(x_train, y_train)"
   ]
  },
  {
   "cell_type": "code",
   "execution_count": 22,
   "metadata": {},
   "outputs": [],
   "source": [
    "# Predict class labels using decision tree\n",
    "y_pred = model.predict(x_test)"
   ]
  },
  {
   "cell_type": "code",
   "execution_count": 23,
   "metadata": {},
   "outputs": [
    {
     "name": "stdout",
     "output_type": "stream",
     "text": [
      "[[ 12   0   0   0   0  25   2   8   0]\n",
      " [  5  35   1   1   0  64   1  34   0]\n",
      " [  1   1  27   1   2  34   4  31   0]\n",
      " [  0   0   3  28   2  31  41   7   0]\n",
      " [  0   3   1   4  15  56   4  19   0]\n",
      " [ 11  31  15  12  22 589  44 207   3]\n",
      " [  1   2   2  33   4  84 110  22   0]\n",
      " [  4  16  17  10  11 291  11 431   0]\n",
      " [  0   1   5   0   1  16   0   7   5]]\n"
     ]
    }
   ],
   "source": [
    "# Compute confusion matrix\n",
    "conf_matrix = metrics.confusion_matrix(y_test, y_pred)\n",
    "print(conf_matrix)"
   ]
  },
  {
   "cell_type": "code",
   "execution_count": 24,
   "metadata": {},
   "outputs": [
    {
     "data": {
      "image/png": "[encoded data removed]",
      "text/plain": [
       "<Figure size 432x288 with 2 Axes>"
      ]
     },
     "metadata": {
      "needs_background": "light"
     },
     "output_type": "display_data"
    }
   ],
   "source": [
    "# Plot confusion matrix\n",
    "sns.heatmap(conf_matrix, annot = True, fmt = \".3f\", square = True, cmap = plt.cm.Blues)\n",
    "plt.ylabel('Actual')\n",
    "plt.xlabel('Predicted')\n",
    "plt.title('Confusion matrix')\n",
    "plt.tight_layout()"
   ]
  },
  {
   "cell_type": "code",
   "execution_count": 25,
   "metadata": {},
   "outputs": [
    {
     "name": "stdout",
     "output_type": "stream",
     "text": [
      "Accuracy: 0.496628322094407\n",
      "Error: 0.503371677905593\n",
      "Precision: [0.35294118 0.39325843 0.38028169 0.31460674 0.26315789 0.49495798\n",
      " 0.50691244 0.56266319 0.625     ]\n",
      "Recall: [0.25531915 0.24822695 0.26732673 0.25       0.14705882 0.63062099\n",
      " 0.42635659 0.5448799  0.14285714]\n",
      "F1 Scores: 0.4849510442030329\n"
     ]
    }
   ],
   "source": [
    "# Compute evaluation metrics\n",
    "print('Accuracy:', metrics.accuracy_score(y_test, y_pred)) # accuracy\n",
    "print('Error:', 1 - metrics.accuracy_score(y_test, y_pred)) # error\n",
    "print('Precision:', metrics.precision_score(y_test, y_pred, average = None)) # precision\n",
    "print('Recall:', metrics.recall_score(y_test, y_pred, average = None)) # recall\n",
    "print('F1 Scores:', metrics.f1_score(y_test, y_pred, average='weighted', labels=np.unique(y_pred))) # F1 score"
   ]
  },
  {
   "cell_type": "code",
   "execution_count": 26,
   "metadata": {},
   "outputs": [
    {
     "data": {
      "text/plain": [
       "AdaBoostClassifier(base_estimator=DecisionTreeClassifier(criterion='entropy',\n",
       "                                                         random_state=0),\n",
       "                   n_estimators=10, random_state=0)"
      ]
     },
     "execution_count": 26,
     "metadata": {},
     "output_type": "execute_result"
    }
   ],
   "source": [
    "# CLASSIFIER: Ensemble of decision trees (with boosting)\n",
    "# Build ensemble of decision trees (with boosting)\n",
    "model = AdaBoostClassifier(base_estimator = DecisionTreeClassifier(criterion = \"entropy\", random_state = 0), n_estimators = 10, random_state = 0)\n",
    "model.fit(x_train, y_train)"
   ]
  },
  {
   "cell_type": "code",
   "execution_count": 27,
   "metadata": {},
   "outputs": [
    {
     "name": "stdout",
     "output_type": "stream",
     "text": [
      "['rap' 'rock' 'rock' ... 'rock' 'rock' 'pop']\n"
     ]
    }
   ],
   "source": [
    "# Predict class labels using decision tree\n",
    "y_pred = model.predict(x_test)\n",
    "print(y_pred)"
   ]
  },
  {
   "cell_type": "code",
   "execution_count": 28,
   "metadata": {},
   "outputs": [
    {
     "name": "stdout",
     "output_type": "stream",
     "text": [
      "[[ 10   3   2   0   0  23   5   4   0]\n",
      " [  2  34   1   3   1  59   2  38   1]\n",
      " [  2   3  21   1   2  35   5  32   0]\n",
      " [  0   1   3  32   6  29  33   8   0]\n",
      " [  1   2   0   1  15  53   7  22   1]\n",
      " [ 11  27  17  17  21 529  55 251   6]\n",
      " [  1   1   4  30   7  74 114  27   0]\n",
      " [  5  24  19  11  10 250  28 438   6]\n",
      " [  0   0   2   1   1  14   1  11   5]]\n"
     ]
    }
   ],
   "source": [
    "# Compute confusion matrix\n",
    "conf_matrix = metrics.confusion_matrix(y_test, y_pred)\n",
    "print(conf_matrix)"
   ]
  },
  {
   "cell_type": "code",
   "execution_count": 29,
   "metadata": {},
   "outputs": [
    {
     "data": {
      "image/png": "[encoded data removed]",
      "text/plain": [
       "<Figure size 432x288 with 2 Axes>"
      ]
     },
     "metadata": {
      "needs_background": "light"
     },
     "output_type": "display_data"
    }
   ],
   "source": [
    "# Plot confusion matrix\n",
    "sns.heatmap(conf_matrix, annot = True, fmt = \".3f\", square = True, cmap = plt.cm.Blues)\n",
    "plt.ylabel('Actual')\n",
    "plt.xlabel('Predicted')\n",
    "plt.title('Confusion matrix')\n",
    "plt.tight_layout()"
   ]
  },
  {
   "cell_type": "code",
   "execution_count": 30,
   "metadata": {},
   "outputs": [
    {
     "name": "stdout",
     "output_type": "stream",
     "text": [
      "Accuracy: 0.475208250694169\n",
      "Error: 0.524791749305831\n",
      "Precision: [0.3125     0.35789474 0.30434783 0.33333333 0.23809524 0.49624765\n",
      " 0.456      0.52707581 0.26315789]\n",
      "Recall: [0.21276596 0.24113475 0.20792079 0.28571429 0.14705882 0.56638116\n",
      " 0.44186047 0.55372946 0.14285714]\n",
      "F1 Scores: 0.46570688791036563\n"
     ]
    }
   ],
   "source": [
    "# Compute evaluation metrics\n",
    "print('Accuracy:', metrics.accuracy_score(y_test, y_pred)) # accuracy\n",
    "print('Error:', 1 - metrics.accuracy_score(y_test, y_pred)) # error\n",
    "print('Precision:', metrics.precision_score(y_test, y_pred, average = None)) # precision\n",
    "print('Recall:', metrics.recall_score(y_test, y_pred, average = None)) # recall\n",
    "print('F1 Scores:', metrics.f1_score(y_test, y_pred, average='weighted', labels=np.unique(y_pred))) # F1 score"
   ]
  },
  {
   "cell_type": "code",
   "execution_count": 31,
   "metadata": {},
   "outputs": [
    {
     "data": {
      "text/plain": [
       "RandomForestClassifier(criterion='entropy', n_estimators=10, random_state=0)"
      ]
     },
     "execution_count": 31,
     "metadata": {},
     "output_type": "execute_result"
    }
   ],
   "source": [
    "# CLASSIFIER: Random forest\n",
    "# Build random forest\n",
    "model = RandomForestClassifier(n_estimators = 10, criterion = \"entropy\", random_state = 0)\n",
    "model.fit(x_train, y_train)"
   ]
  },
  {
   "cell_type": "code",
   "execution_count": 32,
   "metadata": {},
   "outputs": [],
   "source": [
    "# Predict class labels using decision tree\n",
    "y_pred = model.predict(x_test)"
   ]
  },
  {
   "cell_type": "code",
   "execution_count": 33,
   "metadata": {},
   "outputs": [
    {
     "name": "stdout",
     "output_type": "stream",
     "text": [
      "[[  9   1   0   0   0  23   1  13   0]\n",
      " [  2  33   2   1   2  53   3  45   0]\n",
      " [  0   1  19   2   3  30   5  41   0]\n",
      " [  0   2   4  29   2  20  43  12   0]\n",
      " [  0   1   3   4  22  51   7  14   0]\n",
      " [ 11  39  11  13  21 587  37 211   4]\n",
      " [  0   1   4  33   4  88 105  23   0]\n",
      " [  6  21  15  13   2 278  10 446   0]\n",
      " [  0   0   4   0   0  18   1   6   6]]\n"
     ]
    }
   ],
   "source": [
    "# Compute confusion matrix\n",
    "conf_matrix = metrics.confusion_matrix(y_test, y_pred)\n",
    "print(conf_matrix)"
   ]
  },
  {
   "cell_type": "code",
   "execution_count": 34,
   "metadata": {},
   "outputs": [
    {
     "data": {
      "image/png": "[encoded data removed]",
      "text/plain": [
       "<Figure size 432x288 with 2 Axes>"
      ]
     },
     "metadata": {
      "needs_background": "light"
     },
     "output_type": "display_data"
    }
   ],
   "source": [
    "# Plot confusion matrix\n",
    "sns.heatmap(conf_matrix, annot = True, fmt = \".3f\", square = True, cmap = plt.cm.Blues)\n",
    "plt.ylabel('Actual')\n",
    "plt.xlabel('Predicted')\n",
    "plt.title('Confusion matrix')\n",
    "plt.tight_layout()"
   ]
  },
  {
   "cell_type": "code",
   "execution_count": 35,
   "metadata": {},
   "outputs": [
    {
     "name": "stdout",
     "output_type": "stream",
     "text": [
      "Accuracy: 0.49821499404998015\n",
      "Error: 0.5017850059500198\n",
      "Precision: [0.32142857 0.33333333 0.30645161 0.30526316 0.39285714 0.51132404\n",
      " 0.49528302 0.54993835 0.6       ]\n",
      "Recall: [0.19148936 0.23404255 0.18811881 0.25892857 0.21568627 0.62847966\n",
      " 0.40697674 0.56384324 0.17142857]\n",
      "F1 Scores: 0.4859557130655242\n"
     ]
    }
   ],
   "source": [
    "# Compute evaluation metrics\n",
    "print('Accuracy:', metrics.accuracy_score(y_test, y_pred)) # accuracy\n",
    "print('Error:', 1 - metrics.accuracy_score(y_test, y_pred)) # error\n",
    "print('Precision:', metrics.precision_score(y_test, y_pred, average = None)) # precision\n",
    "print('Recall:', metrics.recall_score(y_test, y_pred, average = None)) # recall\n",
    "print('F1 Scores:', metrics.f1_score(y_test, y_pred, average='weighted', labels=np.unique(y_pred))) # F1 score"
   ]
  },
  {
   "cell_type": "code",
   "execution_count": 36,
   "metadata": {},
   "outputs": [],
   "source": [
    "# Save the model to disk (RandomForestClassifier)\n",
    "filename = 'model.sav'\n",
    "pickle.dump(model, open(filename, 'wb'))"
   ]
  }
 ],
 "metadata": {
  "kernelspec": {
   "display_name": "Python 3",
   "language": "python",
   "name": "python3"
  },
  "language_info": {
   "codemirror_mode": {
    "name": "ipython",
    "version": 3
   },
   "file_extension": ".py",
   "mimetype": "text/x-python",
   "name": "python",
   "nbconvert_exporter": "python",
   "pygments_lexer": "ipython3",
   "version": "3.8.5"
  }
 },
 "nbformat": 4,
 "nbformat_minor": 4
}
